{
 "cells": [
  {
   "cell_type": "code",
   "execution_count": 5,
   "metadata": {},
   "outputs": [],
   "source": [
    "import os\n",
    "import numpy as np"
   ]
  },
  {
   "cell_type": "code",
   "execution_count": 6,
   "metadata": {},
   "outputs": [
    {
     "name": "stdout",
     "output_type": "stream",
     "text": [
      "7352\n"
     ]
    }
   ],
   "source": [
    "root = os.path.join('data', 'HAR/train/')\n",
    "\n",
    "data_list = []\n",
    "\n",
    "file = open(root + 'X_train.txt', \"r\")\n",
    "while True:\n",
    "    line = file.readline()\n",
    "    if not line:\n",
    "        break\n",
    "    data_list.append(line)\n",
    "\n",
    "file.close()\n",
    "\n",
    "print(len(data_list))"
   ]
  },
  {
   "cell_type": "code",
   "execution_count": 8,
   "metadata": {},
   "outputs": [
    {
     "name": "stdout",
     "output_type": "stream",
     "text": [
      "2947\n"
     ]
    }
   ],
   "source": [
    "root = os.path.join('data', 'HAR/test/')\n",
    "\n",
    "data_list = []\n",
    "\n",
    "file = open(root + 'X_test.txt', \"r\")\n",
    "while True:\n",
    "    line = file.readline()\n",
    "    if not line:\n",
    "        break\n",
    "    data_list.append(line)\n",
    "\n",
    "file.close()\n",
    "\n",
    "print(len(data_list))"
   ]
  }
 ],
 "metadata": {
  "kernelspec": {
   "display_name": "lab",
   "language": "python",
   "name": "python3"
  },
  "language_info": {
   "codemirror_mode": {
    "name": "ipython",
    "version": 3
   },
   "file_extension": ".py",
   "mimetype": "text/x-python",
   "name": "python",
   "nbconvert_exporter": "python",
   "pygments_lexer": "ipython3",
   "version": "3.8.5"
  },
  "orig_nbformat": 4,
  "vscode": {
   "interpreter": {
    "hash": "d7190409c76b88659f4d075eb8edf1bf9af5d2f17264c0ef6b9263be194f764a"
   }
  }
 },
 "nbformat": 4,
 "nbformat_minor": 2
}
